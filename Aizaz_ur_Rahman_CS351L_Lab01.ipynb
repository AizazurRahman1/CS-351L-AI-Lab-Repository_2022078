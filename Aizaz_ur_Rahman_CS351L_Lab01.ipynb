{
  "nbformat": 4,
  "nbformat_minor": 0,
  "metadata": {
    "colab": {
      "provenance": [],
      "authorship_tag": "ABX9TyP6Bue/EIH2aU6SzXE56/83",
      "include_colab_link": true
    },
    "kernelspec": {
      "name": "python3",
      "display_name": "Python 3"
    },
    "language_info": {
      "name": "python"
    }
  },
  "cells": [
    {
      "cell_type": "markdown",
      "metadata": {
        "id": "view-in-github",
        "colab_type": "text"
      },
      "source": [
        "<a href=\"https://colab.research.google.com/github/AizazurRahman1/CS-351L-AI-Lab-Repository_2022078/blob/main/Aizaz_ur_Rahman_CS351L_Lab01.ipynb\" target=\"_parent\"><img src=\"https://colab.research.google.com/assets/colab-badge.svg\" alt=\"Open In Colab\"/></a>"
      ]
    },
    {
      "cell_type": "markdown",
      "source": [
        "#**BFS**"
      ],
      "metadata": {
        "id": "yfj0lLfGn06t"
      }
    },
    {
      "cell_type": "code",
      "execution_count": 1,
      "metadata": {
        "colab": {
          "base_uri": "https://localhost:8080/"
        },
        "id": "_bTgCmhbmi3d",
        "outputId": "e2e1e05f-435a-4fe4-fd3d-a984104f3c65"
      },
      "outputs": [
        {
          "output_type": "stream",
          "name": "stdout",
          "text": [
            "Think of a number between 1 and 100, and I (the AI) will try to guess it using BFS.\n",
            "AI's guess is: 50\n",
            "Enter 'h' if too high, 'l' if too low, or 'c' if correct: h\n",
            "AI's guess is: 49\n",
            "Enter 'h' if too high, 'l' if too low, or 'c' if correct: h\n",
            "AI's guess is: 48\n",
            "Enter 'h' if too high, 'l' if too low, or 'c' if correct: h\n",
            "AI's guess is: 47\n",
            "Enter 'h' if too high, 'l' if too low, or 'c' if correct: l\n",
            "AI's guess is: 46\n",
            "Enter 'h' if too high, 'l' if too low, or 'c' if correct: c\n",
            "I (AI) guessed the number in 5 attempts using BFS!\n"
          ]
        }
      ],
      "source": [
        "from collections import deque\n",
        "\n",
        "def bfs_number_guessing_game():\n",
        "    # Player selects a number\n",
        "    print(\"Think of a number between 1 and 100, and I (the AI) will try to guess it using BFS.\")\n",
        "\n",
        "    # Initial boundaries and setup\n",
        "    low = 1\n",
        "    high = 100\n",
        "    attempts = 0\n",
        "\n",
        "    # Create a deque to store the guesses\n",
        "    # Start by guessing the middle point\n",
        "    queue = deque([(low + high) // 2])\n",
        "    visited = set()  # To keep track of already guessed numbers\n",
        "\n",
        "    # Loop until the AI guesses the number correctly\n",
        "    while queue:\n",
        "        guess = queue.popleft()  # Get the next guess (FIFO like BFS)\n",
        "        attempts += 1\n",
        "\n",
        "        if guess in visited:\n",
        "            continue  # Skip already guessed numbers\n",
        "\n",
        "        visited.add(guess)\n",
        "\n",
        "        print(f\"AI's guess is: {guess}\")\n",
        "        feedback = input(\"Enter 'h' if too high, 'l' if too low, or 'c' if correct: \").lower()\n",
        "\n",
        "        if feedback == 'c':\n",
        "            print(f\"I (AI) guessed the number in {attempts} attempts using BFS!\")\n",
        "            return\n",
        "        elif feedback == 'h':\n",
        "            # Guess all possible numbers lower than the current guess\n",
        "            for i in range(guess - 1, low - 1, -1):\n",
        "                if i not in visited:\n",
        "                    queue.append(i)\n",
        "            high = guess - 1  # Update the upper boundary\n",
        "        elif feedback == 'l':\n",
        "            # Guess all possible numbers higher than the current guess\n",
        "            for i in range(guess + 1, high + 1):\n",
        "                if i not in visited:\n",
        "                    queue.append(i)\n",
        "            low = guess + 1  # Update the lower boundary\n",
        "\n",
        "    print(\"Something went wrong!\")  # This should never be reached\n",
        "\n",
        "# Run the BFS version of the game\n",
        "bfs_number_guessing_game()\n"
      ]
    },
    {
      "cell_type": "markdown",
      "source": [
        "#**DFS**"
      ],
      "metadata": {
        "id": "8J4fJDAwn6FH"
      }
    },
    {
      "cell_type": "code",
      "source": [
        "def dfs_number_guessing_game():\n",
        "    # Player selects a number\n",
        "    print(\"Think of a number between 1 and 100, and I (the AI) will try to guess it using DFS.\")\n",
        "\n",
        "    # Initial boundaries\n",
        "    low = 1\n",
        "    high = 100\n",
        "    attempts = 0\n",
        "\n",
        "    # Stack to simulate DFS, starting with the middle value\n",
        "    stack = [(low + high) // 2]\n",
        "    visited = set()  # To keep track of already guessed numbers\n",
        "\n",
        "    # Loop until the AI guesses the number correctly\n",
        "    while stack:\n",
        "        guess = stack.pop()  # Get the next guess (LIFO like DFS)\n",
        "        attempts += 1\n",
        "\n",
        "        if guess in visited:\n",
        "            continue  # Skip already guessed numbers\n",
        "\n",
        "        visited.add(guess)\n",
        "\n",
        "        print(f\"AI's guess is: {guess}\")\n",
        "        feedback = input(\"Enter 'h' if too high, 'l' if too low, or 'c' if correct: \").lower()\n",
        "\n",
        "        if feedback == 'c':\n",
        "            print(f\"I (AI) guessed the number in {attempts} attempts using DFS!\")\n",
        "            return\n",
        "        elif feedback == 'h':\n",
        "            # Guess all possible numbers lower than the current guess (push them onto the stack)\n",
        "            for i in range(guess - 1, low - 1, -1):\n",
        "                if i not in visited:\n",
        "                    stack.append(i)\n",
        "            high = guess - 1  # Update the upper boundary\n",
        "        elif feedback == 'l':\n",
        "            # Guess all possible numbers higher than the current guess (push them onto the stack)\n",
        "            for i in range(guess + 1, high + 1):\n",
        "                if i not in visited:\n",
        "                    stack.append(i)\n",
        "            low = guess + 1  # Update the lower boundary\n",
        "\n",
        "    print(\"Something went wrong!\")  # This should never be reached\n",
        "\n",
        "# Run the DFS version of the game\n",
        "dfs_number_guessing_game()\n"
      ],
      "metadata": {
        "colab": {
          "base_uri": "https://localhost:8080/"
        },
        "id": "KMd67ceTm1JE",
        "outputId": "07291667-a460-49eb-9095-f656d338aff0"
      },
      "execution_count": 2,
      "outputs": [
        {
          "output_type": "stream",
          "name": "stdout",
          "text": [
            "Think of a number between 1 and 100, and I (the AI) will try to guess it using DFS.\n",
            "AI's guess is: 50\n",
            "Enter 'h' if too high, 'l' if too low, or 'c' if correct: l\n",
            "AI's guess is: 100\n",
            "Enter 'h' if too high, 'l' if too low, or 'c' if correct: h\n",
            "AI's guess is: 51\n",
            "Enter 'h' if too high, 'l' if too low, or 'c' if correct: l\n",
            "AI's guess is: 99\n",
            "Enter 'h' if too high, 'l' if too low, or 'c' if correct: h\n",
            "AI's guess is: 52\n",
            "Enter 'h' if too high, 'l' if too low, or 'c' if correct: l\n",
            "AI's guess is: 98\n",
            "Enter 'h' if too high, 'l' if too low, or 'c' if correct: h\n",
            "AI's guess is: 53\n",
            "Enter 'h' if too high, 'l' if too low, or 'c' if correct: c\n",
            "I (AI) guessed the number in 7 attempts using DFS!\n"
          ]
        }
      ]
    },
    {
      "cell_type": "markdown",
      "source": [
        "#**SIMULATED ANNEALING**"
      ],
      "metadata": {
        "id": "IosMn1tVn_RM"
      }
    },
    {
      "cell_type": "code",
      "source": [
        "import random\n",
        "import math\n",
        "\n",
        "def simulated_annealing_number_guessing_game():\n",
        "    # Player selects a number\n",
        "    print(\"Think of a number between 1 and 100, and I (the AI) will try to guess it using Simulated Annealing.\")\n",
        "\n",
        "    # Initialize variables\n",
        "    low = 1\n",
        "    high = 100\n",
        "    attempts = 0\n",
        "    temperature = 100.0  # Initial temperature\n",
        "    cooling_rate = 0.95  # Cooling factor for each iteration\n",
        "\n",
        "    # Initial random guess\n",
        "    current_guess = random.randint(low, high)\n",
        "\n",
        "    # Loop until the AI guesses the number correctly or the temperature becomes very low\n",
        "    while temperature > 0.1:\n",
        "        attempts += 1\n",
        "\n",
        "        print(f\"AI's guess is: {current_guess}\")\n",
        "        feedback = input(\"Enter 'h' if too high, 'l' if too low, or 'c' if correct: \").lower()\n",
        "\n",
        "        if feedback == 'c':\n",
        "            print(f\"I (AI) guessed the number in {attempts} attempts using Simulated Annealing!\")\n",
        "            return\n",
        "        elif feedback == 'h':\n",
        "            high = current_guess - 1  # If too high, reduce the upper bound\n",
        "        elif feedback == 'l':\n",
        "            low = current_guess + 1  # If too low, increase the lower bound\n",
        "\n",
        "        # Select a neighboring guess randomly\n",
        "        next_guess = random.randint(low, high)\n",
        "\n",
        "        # Calculate the acceptance probability\n",
        "        delta = abs(next_guess - current_guess)\n",
        "        acceptance_probability = math.exp(-delta / temperature)\n",
        "\n",
        "        # Decide whether to accept the new guess\n",
        "        if delta < 0 or random.random() < acceptance_probability:\n",
        "            current_guess = next_guess  # Accept the new guess\n",
        "\n",
        "        # Cool down the temperature\n",
        "        temperature *= cooling_rate\n",
        "\n",
        "    print(\"I (AI) couldn't guess your number. The process cooled down too much.\")\n",
        "\n",
        "# Run the Simulated Annealing version of the game\n",
        "simulated_annealing_number_guessing_game()\n"
      ],
      "metadata": {
        "colab": {
          "base_uri": "https://localhost:8080/"
        },
        "id": "Ex8Lxoo_nZy9",
        "outputId": "0848f291-d29e-4486-fe86-6ba1faf8ddbf"
      },
      "execution_count": 3,
      "outputs": [
        {
          "output_type": "stream",
          "name": "stdout",
          "text": [
            "Think of a number between 1 and 100, and I (the AI) will try to guess it using Simulated Annealing.\n",
            "AI's guess is: 99\n",
            "Enter 'h' if too high, 'l' if too low, or 'c' if correct: h\n",
            "AI's guess is: 97\n",
            "Enter 'h' if too high, 'l' if too low, or 'c' if correct: h\n",
            "AI's guess is: 87\n",
            "Enter 'h' if too high, 'l' if too low, or 'c' if correct: h\n",
            "AI's guess is: 54\n",
            "Enter 'h' if too high, 'l' if too low, or 'c' if correct: l\n",
            "AI's guess is: 71\n",
            "Enter 'h' if too high, 'l' if too low, or 'c' if correct: l\n",
            "AI's guess is: 75\n",
            "Enter 'h' if too high, 'l' if too low, or 'c' if correct: c\n",
            "I (AI) guessed the number in 6 attempts using Simulated Annealing!\n"
          ]
        }
      ]
    }
  ]
}